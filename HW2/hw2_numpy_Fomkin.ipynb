{
 "cells": [
  {
   "cell_type": "markdown",
   "metadata": {},
   "source": [
    "### Упражнение 1\n",
    "\n",
    "На одном графике изобразите время затраченное на вычисление с использованием массивов numpy и стандартных списков в питоне.  \n",
    "Для более точных результатов замеряйте время выполнения функции несколько раз и усредняйте. \n",
    "* Используйте функцию `z = 2*x**2 + 4*y`\n",
    "* Перемножение матриц размера n на n"
   ]
  },
  {
   "cell_type": "code",
   "execution_count": 1,
   "metadata": {},
   "outputs": [],
   "source": [
    "import numpy as np\n",
    "import pandas as pd\n",
    "import random\n",
    "import time\n",
    "import matplotlib.pyplot as plt\n",
    "import matplotlib\n",
    "import seaborn as sns\n",
    "%matplotlib inline"
   ]
  },
  {
   "cell_type": "code",
   "execution_count": 2,
   "metadata": {},
   "outputs": [
    {
     "name": "stdout",
     "output_type": "stream",
     "text": [
      "\t\t\tList VS arrays dividing\n",
      "Time for calculating \"z = 2*x**2 + 4*y\" using lists of type \"list\" took 2.4761693477630615 seconds\n",
      "Time for calculating \"z = 2*x**2 + 4*y\" using lists of type \"ndarray\" took 0.0339665412902832 seconds\n",
      "Time for multiplication of matrices using lists of type \"list\" took 3.5219779014587402 seconds\n",
      "Time for multiplication of matrices using numpy 0.004408121109008789 seconds\n"
     ]
    }
   ],
   "source": [
    "# z = 2*x**2 + 4*y\n",
    "size = random.randint(10e+5, 10e+6)\n",
    "\n",
    "list1 = range(1, size + 1)\n",
    "list2 = range(1, size + 1)\n",
    "\n",
    "array1 = np.arange(1, size + 1)\n",
    "array2 = np.arange(1, size + 1)\n",
    "\n",
    "print(\"\\t\\t\\tList VS arrays dividing\")\n",
    "\n",
    "\n",
    "initialTime = time.time()\n",
    "res1 = [(2*x**2 + 4*y) for x, y in zip(list1, list2)]\n",
    "time1 = time.time() - initialTime\n",
    "print('Time for calculating \"z = 2*x**2 + 4*y\" using lists of type \"list\" took', time1, \"seconds\")\n",
    "\n",
    "initialTime = time.time()\n",
    "res2 = 2*array1**2 + 4 * array2\n",
    "time2 = time.time() - initialTime\n",
    "print('Time for calculating \"z = 2*x**2 + 4*y\" using lists of type \"ndarray\" took', time2, \"seconds\") \n",
    "\n",
    "#matrix\n",
    "mat_size = random.randint(300, 500)\n",
    "mat_list1 = [[random.random() for j in range(mat_size)] for i in range(mat_size)]\n",
    "mat_list2 = [[random.random() for j in range(mat_size)] for i in range(mat_size)]\n",
    "mat_array1 = np.random.rand(mat_size, mat_size)\n",
    "mat_array2 = np.random.rand(mat_size, mat_size)\n",
    "\n",
    "initialTime = time.time()\n",
    "def dot(mat1, mat2):\n",
    "    return [\n",
    "        [sum(x * y for x, y in zip(mat1_r, mat2_c)) for mat2_c in zip(*mat2)] for mat1_r in mat1\n",
    "            ]\n",
    "dot(mat_list1, mat_list2)\n",
    "time3 = time.time() - initialTime\n",
    "print('Time for multiplication of matrices using lists of type \"list\" took', time3, \"seconds\")\n",
    "\n",
    "\n",
    "initialTime = time.time()\n",
    "res3 = mat_array1.dot(mat_array2)\n",
    "time4 = time.time() - initialTime\n",
    "print('Time for multiplication of matrices using numpy', time4, \"seconds\")"
   ]
  },
  {
   "cell_type": "code",
   "execution_count": 3,
   "metadata": {},
   "outputs": [
    {
     "data": {
      "text/html": [
       "<div>\n",
       "<style scoped>\n",
       "    .dataframe tbody tr th:only-of-type {\n",
       "        vertical-align: middle;\n",
       "    }\n",
       "\n",
       "    .dataframe tbody tr th {\n",
       "        vertical-align: top;\n",
       "    }\n",
       "\n",
       "    .dataframe thead th {\n",
       "        text-align: right;\n",
       "    }\n",
       "</style>\n",
       "<table border=\"1\" class=\"dataframe\">\n",
       "  <thead>\n",
       "    <tr style=\"text-align: right;\">\n",
       "      <th></th>\n",
       "      <th>time</th>\n",
       "      <th>type</th>\n",
       "      <th>kind</th>\n",
       "    </tr>\n",
       "  </thead>\n",
       "  <tbody>\n",
       "    <tr>\n",
       "      <th>0</th>\n",
       "      <td>2.476169</td>\n",
       "      <td>list</td>\n",
       "      <td>calculation</td>\n",
       "    </tr>\n",
       "    <tr>\n",
       "      <th>1</th>\n",
       "      <td>0.033967</td>\n",
       "      <td>numpy</td>\n",
       "      <td>calculation</td>\n",
       "    </tr>\n",
       "    <tr>\n",
       "      <th>2</th>\n",
       "      <td>3.521978</td>\n",
       "      <td>list</td>\n",
       "      <td>matrices</td>\n",
       "    </tr>\n",
       "    <tr>\n",
       "      <th>3</th>\n",
       "      <td>0.004408</td>\n",
       "      <td>numpy</td>\n",
       "      <td>matrices</td>\n",
       "    </tr>\n",
       "  </tbody>\n",
       "</table>\n",
       "</div>"
      ],
      "text/plain": [
       "       time   type         kind\n",
       "0  2.476169   list  calculation\n",
       "1  0.033967  numpy  calculation\n",
       "2  3.521978   list     matrices\n",
       "3  0.004408  numpy     matrices"
      ]
     },
     "execution_count": 3,
     "metadata": {},
     "output_type": "execute_result"
    }
   ],
   "source": [
    "df = pd.DataFrame({'time': [time1, time2, time3, time4],\n",
    "                   'type': ['list','numpy','list','numpy'],\n",
    "                   'kind':['calculation','calculation','matrices','matrices']})\n",
    "df"
   ]
  },
  {
   "cell_type": "code",
   "execution_count": 4,
   "metadata": {},
   "outputs": [
    {
     "data": {
      "image/png": "[encoded data removed]",
      "text/plain": [
       "<Figure size 720x360 with 2 Axes>"
      ]
     },
     "metadata": {
      "needs_background": "light"
     },
     "output_type": "display_data"
    }
   ],
   "source": [
    "ax = sns.catplot(y=\"time\", x=\"type\", kind='bar', col='kind',\n",
    "                 data=df)\n",
    "\n",
    "plt.show()"
   ]
  },
  {
   "cell_type": "markdown",
   "metadata": {},
   "source": [
    "### Упражнение 2\n",
    "* Создайте массив чисел от 2 до 75. Выведите только нечётные. \n",
    "* Присвойте нечётным числам этого массива значение -1.\n",
    "\n"
   ]
  },
  {
   "cell_type": "code",
   "execution_count": 5,
   "metadata": {},
   "outputs": [
    {
     "data": {
      "text/plain": [
       "array([ 3,  5,  7,  9, 11, 13, 15, 17, 19, 21, 23, 25, 27, 29, 31, 33, 35,\n",
       "       37, 39, 41, 43, 45, 47, 49, 51, 53, 55, 57, 59, 61, 63, 65, 67, 69,\n",
       "       71, 73, 75])"
      ]
     },
     "execution_count": 5,
     "metadata": {},
     "output_type": "execute_result"
    }
   ],
   "source": [
    "array = np.arange(2,76)\n",
    "odd = array[1::2]\n",
    "odd"
   ]
  },
  {
   "cell_type": "code",
   "execution_count": 6,
   "metadata": {},
   "outputs": [
    {
     "data": {
      "text/plain": [
       "array([ 2, -1,  4, -1,  6, -1,  8, -1, 10, -1, 12, -1, 14, -1, 16, -1, 18,\n",
       "       -1, 20, -1, 22, -1, 24, -1, 26, -1, 28, -1, 30, -1, 32, -1, 34, -1,\n",
       "       36, -1, 38, -1, 40, -1, 42, -1, 44, -1, 46, -1, 48, -1, 50, -1, 52,\n",
       "       -1, 54, -1, 56, -1, 58, -1, 60, -1, 62, -1, 64, -1, 66, -1, 68, -1,\n",
       "       70, -1, 72, -1, 74, -1])"
      ]
     },
     "execution_count": 6,
     "metadata": {},
     "output_type": "execute_result"
    }
   ],
   "source": [
    "odd_mask = np.arange(1,75, 2)\n",
    "array[odd_mask] = -1\n",
    "array"
   ]
  },
  {
   "cell_type": "markdown",
   "metadata": {},
   "source": [
    "### Упражнение 3\n",
    "\n",
    "* Найдите в документации функцию, которая удаляет из одного массива элементы, которые есть в другом. \n",
    "* Приведите примеры использования."
   ]
  },
  {
   "cell_type": "code",
   "execution_count": 7,
   "metadata": {},
   "outputs": [
    {
     "name": "stdout",
     "output_type": "stream",
     "text": [
      "[ 5  5  2 12 11 11 12  7  6  3]\n",
      "[10 10 11 12 12  1 11  4  2 13]\n",
      "[3 5 6 7]\n"
     ]
    }
   ],
   "source": [
    "array1 = np.array([random.randint(1,15) for i in range(10)])\n",
    "array2 = np.array([random.randint(1,15) for i in range(10)])\n",
    "print(array1)\n",
    "print(array2)\n",
    "\n",
    "array1by2 = np.setdiff1d(array1, array2)\n",
    "print(array1by2)"
   ]
  },
  {
   "cell_type": "code",
   "execution_count": 8,
   "metadata": {},
   "outputs": [
    {
     "name": "stdout",
     "output_type": "stream",
     "text": [
      "Top series: ['Mr. robot', 'Rick & Morty', 'Bojack Horseman', 'Peaky Blinders', 'Sherlock', 'Breaking Bad', 'TBBT', 'South Park', 'Family Guy'] \n",
      "Top of top (strongly to rewatch): ['Bojack Horseman' 'Mr. robot' 'Rick & Morty' 'Sherlock']\n"
     ]
    }
   ],
   "source": [
    "watched = ['Mr. robot', 'Rick & Morty', 'Bojack Horseman', 'Peaky Blinders', \n",
    "           'Sherlock', 'Breaking Bad', 'TBBT', 'South Park', 'Family Guy']\n",
    "no_rewatch = ['Breaking Bad', 'TBBT', 'Peaky Blinders', 'TBBT', 'South Park', 'Family Guy']\n",
    "to_rewatch = np.setdiff1d(watched, no_rewatch)\n",
    "\n",
    "\n",
    "print('Top series:', watched, \"\\n\"\n",
    "      'Top of top (strongly to rewatch):', to_rewatch)"
   ]
  },
  {
   "cell_type": "markdown",
   "metadata": {},
   "source": [
    "### Упражнение 4\n",
    "\n",
    "* Создайте случайную квадратную матрицу случайного размера от 10 до 100. \n",
    "* Найдите максимум и сумму элементов.\n",
    "* Поделите каждый элемент матрицы на максимум.\n",
    "* Отнимите от каждой строки матрицы среднее по строке.\n",
    "* Замените максимальное значение на -1."
   ]
  },
  {
   "cell_type": "code",
   "execution_count": 66,
   "metadata": {},
   "outputs": [
    {
     "name": "stdout",
     "output_type": "stream",
     "text": [
      "[[86 70 97 ... 54 62 73]\n",
      " [98 73 92 ... 75 98 74]\n",
      " [91 63 52 ... 61 54 75]\n",
      " ...\n",
      " [84 78 64 ... 68 81 92]\n",
      " [54 88 71 ... 82 70 97]\n",
      " [51 79 81 ... 99 62 72]]\n"
     ]
    }
   ],
   "source": [
    "matrix_size = random.randint(10, 100)\n",
    "neo = np.random.randint(50,100, size = (matrix_size,matrix_size))\n",
    "print(neo)"
   ]
  },
  {
   "cell_type": "code",
   "execution_count": 50,
   "metadata": {},
   "outputs": [
    {
     "name": "stdout",
     "output_type": "stream",
     "text": [
      "Maximum: 99\n",
      "Sum of elements: 24052\n"
     ]
    }
   ],
   "source": [
    "max_neo = np.max(neo)\n",
    "sum_neo = np.sum(neo)\n",
    "print(\"Maximum:\", max_neo)\n",
    "print(\"Sum of elements:\", sum_neo)"
   ]
  },
  {
   "cell_type": "code",
   "execution_count": 53,
   "metadata": {},
   "outputs": [
    {
     "name": "stdout",
     "output_type": "stream",
     "text": [
      "[[0.78787879 0.83838384 0.84848485 0.58585859 0.71717172 0.93939394\n",
      "  0.86868687 1.         0.57575758 0.7979798  0.86868687 0.6969697\n",
      "  0.50505051 0.63636364 0.56565657 0.75757576 0.73737374 0.91919192]\n",
      " [0.64646465 0.90909091 0.98989899 0.70707071 0.86868687 0.91919192\n",
      "  0.77777778 0.82828283 0.52525253 0.73737374 0.76767677 0.92929293\n",
      "  0.55555556 0.63636364 0.86868687 1.         0.87878788 0.6969697 ]\n",
      " [0.67676768 0.62626263 0.87878788 0.80808081 0.5959596  0.65656566\n",
      "  0.5959596  0.72727273 0.66666667 0.93939394 0.90909091 0.6969697\n",
      "  0.66666667 0.73737374 0.8989899  0.50505051 0.54545455 0.75757576]\n",
      " [0.54545455 0.80808081 0.80808081 0.54545455 0.92929293 0.63636364\n",
      "  0.98989899 0.6969697  0.73737374 0.65656566 0.8989899  0.64646465\n",
      "  0.63636364 1.         0.80808081 0.90909091 0.5959596  0.81818182]\n",
      " [0.70707071 0.64646465 0.68686869 1.         0.92929293 0.74747475\n",
      "  0.76767677 0.51515152 0.65656566 0.61616162 0.74747475 0.72727273\n",
      "  0.95959596 1.         0.74747475 0.80808081 0.56565657 0.85858586]\n",
      " [0.80808081 0.95959596 0.97979798 0.82828283 0.67676768 0.51515152\n",
      "  0.61616162 0.84848485 0.55555556 0.64646465 0.61616162 0.85858586\n",
      "  0.61616162 0.5959596  0.55555556 0.51515152 0.67676768 0.58585859]\n",
      " [1.         0.90909091 0.91919192 0.90909091 1.         1.\n",
      "  0.70707071 0.90909091 0.83838384 0.94949495 0.86868687 0.68686869\n",
      "  0.60606061 0.68686869 0.6969697  0.66666667 0.52525253 0.80808081]\n",
      " [0.96969697 0.51515152 0.68686869 0.97979798 0.7979798  0.58585859\n",
      "  0.57575758 0.86868687 0.61616162 0.68686869 0.61616162 0.67676768\n",
      "  0.87878788 0.98989899 0.62626263 0.70707071 0.5959596  0.66666667]\n",
      " [0.73737374 0.75757576 0.67676768 0.77777778 0.57575758 0.96969697\n",
      "  0.87878788 0.52525253 0.88888889 0.8989899  0.61616162 0.62626263\n",
      "  0.51515152 0.91919192 0.73737374 0.85858586 1.         0.8989899 ]\n",
      " [0.70707071 0.55555556 0.72727273 0.53535354 0.50505051 0.73737374\n",
      "  0.75757576 0.96969697 0.81818182 0.97979798 0.67676768 0.70707071\n",
      "  0.70707071 0.74747475 0.90909091 0.6969697  0.94949495 0.77777778]\n",
      " [0.88888889 0.84848485 0.53535354 0.5959596  0.8989899  0.53535354\n",
      "  0.84848485 0.78787879 0.64646465 0.50505051 0.60606061 0.86868687\n",
      "  0.70707071 0.61616162 0.94949495 0.87878788 0.6969697  0.72727273]\n",
      " [0.77777778 0.75757576 0.90909091 0.71717172 0.94949495 0.94949495\n",
      "  0.56565657 0.73737374 0.75757576 0.78787879 0.73737374 0.71717172\n",
      "  0.76767677 0.97979798 0.94949495 0.84848485 0.98989899 0.63636364]\n",
      " [0.94949495 0.77777778 0.80808081 0.8989899  0.58585859 0.65656566\n",
      "  0.77777778 0.86868687 0.67676768 0.70707071 0.61616162 0.56565657\n",
      "  0.88888889 0.76767677 0.61616162 0.68686869 0.71717172 0.77777778]\n",
      " [0.6969697  0.81818182 0.51515152 0.61616162 0.60606061 0.6969697\n",
      "  0.51515152 0.65656566 0.80808081 0.86868687 0.50505051 0.84848485\n",
      "  0.94949495 0.96969697 0.72727273 0.76767677 0.72727273 0.58585859]\n",
      " [0.58585859 0.53535354 0.83838384 0.75757576 0.56565657 0.62626263\n",
      "  0.88888889 0.74747475 0.88888889 0.78787879 0.78787879 0.92929293\n",
      "  0.93939394 0.61616162 0.75757576 0.8989899  0.84848485 0.62626263]\n",
      " [0.78787879 0.71717172 0.95959596 0.83838384 0.68686869 0.66666667\n",
      "  0.56565657 0.73737374 0.5959596  0.67676768 0.76767677 0.85858586\n",
      "  0.70707071 0.98989899 0.75757576 0.65656566 0.85858586 0.52525253]\n",
      " [0.85858586 0.50505051 0.93939394 0.60606061 0.74747475 0.52525253\n",
      "  0.58585859 0.71717172 0.6969697  0.50505051 0.72727273 0.65656566\n",
      "  0.77777778 0.71717172 0.58585859 0.63636364 0.75757576 0.77777778]\n",
      " [0.95959596 0.91919192 0.7979798  0.52525253 0.92929293 0.72727273\n",
      "  0.80808081 0.72727273 0.86868687 0.97979798 0.95959596 0.55555556\n",
      "  0.93939394 0.64646465 0.56565657 0.96969697 0.61616162 0.61616162]]\n"
     ]
    }
   ],
   "source": [
    "print(neo / max_neo)"
   ]
  },
  {
   "cell_type": "code",
   "execution_count": 68,
   "metadata": {},
   "outputs": [
    {
     "name": "stdout",
     "output_type": "stream",
     "text": [
      "Mean 0f axis: \n",
      " [[76.09090909]\n",
      " [75.72727273]\n",
      " [75.93939394]\n",
      " [75.        ]\n",
      " [75.33333333]\n",
      " [80.60606061]\n",
      " [76.24242424]\n",
      " [77.63636364]\n",
      " [72.54545455]\n",
      " [75.81818182]\n",
      " [76.06060606]\n",
      " [71.75757576]\n",
      " [69.45454545]\n",
      " [74.12121212]\n",
      " [76.63636364]\n",
      " [75.42424242]\n",
      " [73.06060606]\n",
      " [70.27272727]\n",
      " [75.87878788]\n",
      " [75.36363636]\n",
      " [77.21212121]\n",
      " [75.03030303]\n",
      " [77.        ]\n",
      " [75.96969697]\n",
      " [75.42424242]\n",
      " [72.90909091]\n",
      " [74.6969697 ]\n",
      " [71.57575758]\n",
      " [72.45454545]\n",
      " [75.54545455]\n",
      " [76.63636364]\n",
      " [71.72727273]\n",
      " [73.72727273]]\n",
      "Result 0f subtract: \n",
      " [[  9.90909091  -6.09090909  20.90909091 ... -22.09090909 -14.09090909\n",
      "   -3.09090909]\n",
      " [ 22.27272727  -2.72727273  16.27272727 ...  -0.72727273  22.27272727\n",
      "   -1.72727273]\n",
      " [ 15.06060606 -12.93939394 -23.93939394 ... -14.93939394 -21.93939394\n",
      "   -0.93939394]\n",
      " ...\n",
      " [  7.36363636   1.36363636 -12.63636364 ...  -8.63636364   4.36363636\n",
      "   15.36363636]\n",
      " [-17.72727273  16.27272727  -0.72727273 ...  10.27272727  -1.72727273\n",
      "   25.27272727]\n",
      " [-22.72727273   5.27272727   7.27272727 ...  25.27272727 -11.72727273\n",
      "   -1.72727273]]\n"
     ]
    }
   ],
   "source": [
    "neo_axis_mean = neo.mean(axis=1, keepdims=True)\n",
    "print(\"Mean 0f axis: \\n\", neo_axis_mean)\n",
    "sub_res = neo - neo_axis_mean\n",
    "print(\"Result 0f subtract: \\n\", sub_res)"
   ]
  },
  {
   "cell_type": "code",
   "execution_count": 77,
   "metadata": {},
   "outputs": [
    {
     "name": "stdout",
     "output_type": "stream",
     "text": [
      "Max =  90\n"
     ]
    }
   ],
   "source": [
    "neo[neo == neo.max()] = -1\n",
    "print('Max = ', neo.max())"
   ]
  },
  {
   "cell_type": "code",
   "execution_count": 229,
   "metadata": {},
   "outputs": [
    {
     "data": {
      "text/plain": [
       "numpy.ndarray"
      ]
     },
     "execution_count": 229,
     "metadata": {},
     "output_type": "execute_result"
    }
   ],
   "source": [
    "type(neo)"
   ]
  },
  {
   "cell_type": "markdown",
   "metadata": {},
   "source": [
    "### Упражнение 5\n",
    "* Напишите функцию, которая берет многомерный вещественный массив с пропущенными значениями (np.nan) и возвращает его копию с заполненными пропусками (заменять средним значением всех элементов массива). Если в массиве одни пропущенные значения, заполните их нулями."
   ]
  },
  {
   "cell_type": "code",
   "execution_count": 226,
   "metadata": {},
   "outputs": [],
   "source": [
    "def nan_filler(a):\n",
    "    if np.nansum(a) != 0:\n",
    "        a[np.isnan(a)] = np.nanmean(a)\n",
    "    else:\n",
    "        a[np.isnan(a)] = 0\n",
    "    return a"
   ]
  },
  {
   "cell_type": "markdown",
   "metadata": {},
   "source": [
    "### Упражнение 6\n",
    "* Напишите функцию которая нормализирует заданный numpy-массив, так чтобы его значения лежали в интервале $[0, 1]$."
   ]
  },
  {
   "cell_type": "code",
   "execution_count": 255,
   "metadata": {},
   "outputs": [],
   "source": [
    "def normalizer(a: np.ndarray):\n",
    "    a = np.interp(a, (a.min(), a.max()), (0, 1))\n",
    "    return a"
   ]
  },
  {
   "cell_type": "code",
   "execution_count": 265,
   "metadata": {},
   "outputs": [
    {
     "name": "stdout",
     "output_type": "stream",
     "text": [
      "1.0\n",
      "0.0\n"
     ]
    }
   ],
   "source": [
    "neo1 = normalizer(neo)\n",
    "print(neo1.max())\n",
    "print(neo1.min())"
   ]
  },
  {
   "cell_type": "markdown",
   "metadata": {},
   "source": [
    "### Упражнение 7\n",
    "* Запишите numpy-array в файл.\n",
    "* Считайте numpy-array из файла."
   ]
  },
  {
   "cell_type": "code",
   "execution_count": 270,
   "metadata": {},
   "outputs": [],
   "source": [
    "np.save('fsociety00', neo1)"
   ]
  },
  {
   "cell_type": "code",
   "execution_count": 271,
   "metadata": {},
   "outputs": [
    {
     "data": {
      "text/plain": [
       "array([[0.95604396, 0.78021978, 0.        , ..., 0.6043956 , 0.69230769,\n",
       "        0.81318681],\n",
       "       [0.        , 0.81318681, 0.        , ..., 0.83516484, 0.        ,\n",
       "        0.82417582],\n",
       "       [0.        , 0.7032967 , 0.58241758, ..., 0.68131868, 0.6043956 ,\n",
       "        0.83516484],\n",
       "       ...,\n",
       "       [0.93406593, 0.86813187, 0.71428571, ..., 0.75824176, 0.9010989 ,\n",
       "        0.        ],\n",
       "       [0.6043956 , 0.97802198, 0.79120879, ..., 0.91208791, 0.78021978,\n",
       "        0.        ],\n",
       "       [0.57142857, 0.87912088, 0.9010989 , ..., 0.        , 0.69230769,\n",
       "        0.8021978 ]])"
      ]
     },
     "execution_count": 271,
     "metadata": {},
     "output_type": "execute_result"
    }
   ],
   "source": [
    "d_army = np.load('fsociety00.npy')\n",
    "d_army"
   ]
  },
  {
   "cell_type": "markdown",
   "metadata": {},
   "source": [
    "### Упражнение 8\n",
    "* Создайте случайный массив\n",
    "* Найдите в массиве элемент ближайший к данному"
   ]
  },
  {
   "cell_type": "code",
   "execution_count": 395,
   "metadata": {},
   "outputs": [],
   "source": [
    "steel_mountain = np.random.randint(0, 1000, (10,10))\n",
    "crit = np.random.uniform(low=0, high=1000)"
   ]
  },
  {
   "cell_type": "code",
   "execution_count": 396,
   "metadata": {},
   "outputs": [
    {
     "name": "stdout",
     "output_type": "stream",
     "text": [
      "[[600 671 462 855 654 182 254 629 794 323]\n",
      " [791 313 290 392 249 173 356 200 636 345]\n",
      " [666 109 728 252 432 640 900 579 659 630]\n",
      " [126 773 303   3 826 888 167 516 314 824]\n",
      " [521 955 970 502 279 174 407  24 870  14]\n",
      " [764  88 669 984 334 886 820  65 988 302]\n",
      " [285 892 703 126 802 379 924 346  44  59]\n",
      " [ 35 775 595 403 371 637 873 819 241 254]\n",
      " [908 389  48 636   6 615 278 769 119 111]\n",
      " [661 920  41 928 551 552 393 900  62 315]]\n",
      "\n",
      "[600 671 462 855 654 182 254 629 794 323 791 313 290 392 249 173 356 200\n",
      " 636 345 666 109 728 252 432 640 900 579 659 630 126 773 303   3 826 888\n",
      " 167 516 314 824 521 955 970 502 279 174 407  24 870  14 764  88 669 984\n",
      " 334 886 820  65 988 302 285 892 703 126 802 379 924 346  44  59  35 775\n",
      " 595 403 371 637 873 819 241 254 908 389  48 636   6 615 278 769 119 111\n",
      " 661 920  41 928 551 552 393 900  62 315]\n"
     ]
    }
   ],
   "source": [
    "flat_arr = steel_mountain.flatten()\n",
    "print(steel_mountain)\n",
    "print('')\n",
    "print(flat_arr)"
   ]
  },
  {
   "cell_type": "code",
   "execution_count": 392,
   "metadata": {},
   "outputs": [],
   "source": [
    "def crit_finder(array, crit_value):\n",
    "    arr_val = np.abs(array - crit_value)\n",
    "    crit_index = arr_val.argmin()\n",
    "    closest_elem = array[crit_index]\n",
    "    return closest_elem"
   ]
  },
  {
   "cell_type": "code",
   "execution_count": 397,
   "metadata": {},
   "outputs": [
    {
     "name": "stdout",
     "output_type": "stream",
     "text": [
      "Critical parameter is 383.4613445673192\n",
      "Closest element of array to the critical parameter is 379\n"
     ]
    }
   ],
   "source": [
    "print(f\"Critical parameter is {crit}\")\n",
    "print(f\"Closest element of array to the critical parameter is {crit_finder(flat_arr, crit)}\")"
   ]
  },
  {
   "cell_type": "markdown",
   "metadata": {},
   "source": [
    "### Упражнение 9\n",
    "* Напишите функцию, которая возвращает  $n \\times m$ целочисленную матрицу с заданным значением на границах матрицы и с заданным значением внутри"
   ]
  },
  {
   "cell_type": "code",
   "execution_count": 404,
   "metadata": {},
   "outputs": [],
   "source": [
    "def matrix(n, m, in_filler, out_filler):\n",
    "    a = np.full((n,m),in_filler)\n",
    "    a[0, ],  a[-1, ], a[:, 0], a[:, -1] = out_filler, out_filler, out_filler, out_filler\n",
    "    return a"
   ]
  },
  {
   "cell_type": "code",
   "execution_count": 416,
   "metadata": {},
   "outputs": [
    {
     "data": {
      "text/plain": [
       "array([['f**k', 'f**k', 'f**k'],\n",
       "       ['f**k', 'society', 'f**k'],\n",
       "       ['f**k', 'f**k', 'f**k']], dtype='<U7')"
      ]
     },
     "execution_count": 416,
     "metadata": {},
     "output_type": "execute_result"
    }
   ],
   "source": [
    "matrix(3,3,'society','f**k')"
   ]
  },
  {
   "cell_type": "markdown",
   "metadata": {},
   "source": [
    "### Упражнение 10\n",
    "* Напишите функцию, которая сортирует строки данной матрицы по значениям заданного столбца в порядке убывания. "
   ]
  },
  {
   "cell_type": "code",
   "execution_count": 426,
   "metadata": {},
   "outputs": [],
   "source": [
    "def mat_sorter(matrix, col_num):\n",
    "    str_ind = matrix[:, col_num]\n",
    "    mat_sorted = matrix[str_ind.argsort()[::-1]]\n",
    "    return mat_sorted"
   ]
  },
  {
   "cell_type": "code",
   "execution_count": 420,
   "metadata": {},
   "outputs": [],
   "source": [
    "neo3 = np.random.randint(1,50,(5,5))"
   ]
  },
  {
   "cell_type": "code",
   "execution_count": 429,
   "metadata": {},
   "outputs": [
    {
     "name": "stdout",
     "output_type": "stream",
     "text": [
      "[[25 43 36 25 23]\n",
      " [12 16  8 16 16]\n",
      " [20 44 27  3 14]\n",
      " [34 31 31 17 46]\n",
      " [29 10 32 28 15]]\n",
      "\n",
      "[[20 44 27  3 14]\n",
      " [25 43 36 25 23]\n",
      " [34 31 31 17 46]\n",
      " [12 16  8 16 16]\n",
      " [29 10 32 28 15]]\n"
     ]
    }
   ],
   "source": [
    "print(neo3)\n",
    "print('')\n",
    "print(mat_sorter(neo3,1))"
   ]
  },
  {
   "cell_type": "markdown",
   "metadata": {},
   "source": [
    "### Упражнение 11\n",
    "\n",
    "* Напишите функцию, которая создает двоичную матрицу шахматной доски с заданным shape\n",
    "\n",
    "Пример 4x4:\n",
    "```python\n",
    "[[0, 1, 0, 1],\n",
    " [1, 0, 1, 0],\n",
    " [0, 1, 0, 1],\n",
    " [1, 0, 1, 0]]\n",
    "```"
   ]
  },
  {
   "cell_type": "code",
   "execution_count": 477,
   "metadata": {},
   "outputs": [
    {
     "name": "stdout",
     "output_type": "stream",
     "text": [
      "[[0 1 0 1 0]\n",
      " [1 0 1 0 1]\n",
      " [0 1 0 1 0]\n",
      " [1 0 1 0 1]\n",
      " [0 1 0 1 0]]\n"
     ]
    }
   ],
   "source": [
    "def сhessboard_creater(shape):\n",
    "    maker = np.indices(shape).sum(axis=0) % 2\n",
    "    return maker\n",
    "print(checkmates_creater((5,5)))"
   ]
  }
 ],
 "metadata": {
  "kernelspec": {
   "display_name": "Python 3",
   "language": "python",
   "name": "python3"
  },
  "language_info": {
   "codemirror_mode": {
    "name": "ipython",
    "version": 3
   },
   "file_extension": ".py",
   "mimetype": "text/x-python",
   "name": "python",
   "nbconvert_exporter": "python",
   "pygments_lexer": "ipython3",
   "version": "3.8.3"
  }
 },
 "nbformat": 4,
 "nbformat_minor": 4
}
